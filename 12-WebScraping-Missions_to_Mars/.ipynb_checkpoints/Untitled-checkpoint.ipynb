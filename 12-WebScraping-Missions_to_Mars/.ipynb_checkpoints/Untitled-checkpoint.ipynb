{
 "cells": [
  {
   "cell_type": "code",
   "execution_count": 1,
   "metadata": {},
   "outputs": [],
   "source": [
    "from splinter import Browser\n",
    "from bs4 import BeautifulSoup as bs\n",
    "import time"
   ]
  },
  {
   "cell_type": "code",
   "execution_count": 2,
   "metadata": {},
   "outputs": [],
   "source": [
    "def init_browser():\n",
    "    # @NOTE: Replace the path with your actual path to the chromedriver \"/usr/local/bin/chromedriver\"\n",
    "    executable_path = {\"executable_path\": \"chromedriver.exe\"}\n",
    "    return Browser(\"chrome\", **executable_path, headless=False)"
   ]
  },
  {
   "cell_type": "code",
   "execution_count": 3,
   "metadata": {},
   "outputs": [],
   "source": [
    "# def scrape_info():\n",
    "browser = init_browser()\n",
    "\n",
    "# Visit https://mars.nasa.gov/news/\n",
    "url = \"https://mars.nasa.gov/news/\"\n",
    "browser.visit(url)\n",
    "\n",
    "time.sleep(1)\n",
    "\n",
    "# Scrape page into Soup\n",
    "html = browser.html\n",
    "soup = bs(html, \"html.parser\")\n",
    "\n",
    "# Get headline\n",
    "Mars_headline = soup.find_all(\"div\", class_=\"content_title\")[1].text\n",
    "\n",
    "# print(Mars_headline)\n",
    "\n",
    "# Get article\n",
    "Mars_article = soup.find(\"div\", class_=\"article_teaser_body\").get_text()\n",
    "\n",
    "# print(Mars_article)\n",
    "\n",
    "\n",
    "# Store data in a dictionary\n",
    "Mars_data = {\n",
    "    \"headline\": Mars_headline,\n",
    "    \"article\": Mars_article\n",
    "}\n",
    "\n",
    "# Close the browser after scraping\n",
    "browser.quit()\n",
    "\n",
    "# Return results\n",
    "# return Mars_data\n"
   ]
  },
  {
   "cell_type": "code",
   "execution_count": 4,
   "metadata": {},
   "outputs": [
    {
     "data": {
      "text/plain": [
       "{'headline': \"The Extraordinary Sample-Gathering System of NASA's Perseverance Mars Rover\",\n",
       " 'article': 'Two astronauts collected Moon rocks on Apollo 11. It will take three robotic systems working together to gather up the first Mars rock samples for return to Earth.'}"
      ]
     },
     "execution_count": 4,
     "metadata": {},
     "output_type": "execute_result"
    }
   ],
   "source": [
    "Mars_data"
   ]
  },
  {
   "cell_type": "code",
   "execution_count": 11,
   "metadata": {},
   "outputs": [],
   "source": [
    "browser = init_browser()\n",
    "url = \"https://www.jpl.nasa.gov/spaceimages/?search=&category=Mars\"\n",
    "browser.visit(url)\n",
    "time.sleep(1)\n",
    "html = browser.html\n",
    "soup = bs(html, \"html.parser\")\n",
    "featured_image_path = soup.find('article')['style']"
   ]
  },
  {
   "cell_type": "code",
   "execution_count": 12,
   "metadata": {},
   "outputs": [
    {
     "data": {
      "text/plain": [
       "'/spaceimages/images/wallpaper/PIA18292-1920x1200.jpg'"
      ]
     },
     "execution_count": 12,
     "metadata": {},
     "output_type": "execute_result"
    }
   ],
   "source": [
    "str(featured_image_path.strip(\";(')\"))"
   ]
  },
  {
   "cell_type": "code",
   "execution_count": 8,
   "metadata": {},
   "outputs": [
    {
     "data": {
      "text/plain": [
       "'/spaceimages/images/wallpaper/PIA16919-1920x1200.jpg'"
      ]
     },
     "execution_count": 8,
     "metadata": {},
     "output_type": "execute_result"
    }
   ],
   "source": [
    "featured_image_path = featured_image_path.replace('background-image: url(', '').replace(')', '') .strip(\";(')\")\n",
    "featured_image_path"
   ]
  },
  {
   "cell_type": "code",
   "execution_count": 9,
   "metadata": {},
   "outputs": [],
   "source": [
    "url2 = \"https://www.jpl.nasa.gov\""
   ]
  },
  {
   "cell_type": "code",
   "execution_count": 10,
   "metadata": {},
   "outputs": [
    {
     "data": {
      "text/plain": [
       "'https://www.jpl.nasa.gov/spaceimages/images/wallpaper/PIA16919-1920x1200.jpg'"
      ]
     },
     "execution_count": 10,
     "metadata": {},
     "output_type": "execute_result"
    }
   ],
   "source": [
    "featured_image_url = url2 + featured_image_path\n",
    "featured_image_url"
   ]
  },
  {
   "cell_type": "code",
   "execution_count": 48,
   "metadata": {},
   "outputs": [],
   "source": [
    "browser = init_browser()\n",
    "url = \"https://twitter.com/marswxreport?lang%3Den\"\n",
    "browser.visit(url)\n",
    "time.sleep(1)\n",
    "html = browser.html\n",
    "soup = bs(html, \"html.parser\")\n",
    "mars_weather = soup.find_all('span', class_=\"css-901oao css-16my406 r-1qd0xha r-ad9z0x r-bcqeeo r-qvutc0\")[34].text"
   ]
  },
  {
   "cell_type": "code",
   "execution_count": 15,
   "metadata": {},
   "outputs": [
    {
     "data": {
      "text/plain": [
       "['css-901oao',\n",
       " 'css-16my406',\n",
       " 'css-bfa6kz',\n",
       " 'r-1qd0xha',\n",
       " 'r-ad9z0x',\n",
       " 'r-bcqeeo',\n",
       " 'r-qvutc0']"
      ]
     },
     "execution_count": 15,
     "metadata": {},
     "output_type": "execute_result"
    }
   ],
   "source": [
    "mars_weather"
   ]
  },
  {
   "cell_type": "code",
   "execution_count": 17,
   "metadata": {},
   "outputs": [
    {
     "data": {
      "text/plain": [
       "<span class=\"css-901oao css-16my406 css-bfa6kz r-1qd0xha r-ad9z0x r-bcqeeo r-qvutc0\"></span>"
      ]
     },
     "execution_count": 17,
     "metadata": {},
     "output_type": "execute_result"
    }
   ],
   "source": [
    "mars_weather"
   ]
  },
  {
   "cell_type": "code",
   "execution_count": 49,
   "metadata": {},
   "outputs": [
    {
     "data": {
      "text/plain": [
       "'InSight sol 538 (2020-06-01) low -92.0ºC (-133.5ºF) high -3.5ºC (25.7ºF)\\nwinds from the SW at 5.7 m/s (12.8 mph) gusting to 17.8 m/s (39.7 mph)\\npressure at 7.20 hPa'"
      ]
     },
     "execution_count": 49,
     "metadata": {},
     "output_type": "execute_result"
    }
   ],
   "source": [
    "mars_weather"
   ]
  },
  {
   "cell_type": "code",
   "execution_count": 53,
   "metadata": {},
   "outputs": [],
   "source": [
    "browser = init_browser()\n",
    "url = \"https://space-facts.com/mars/\"\n",
    "browser.visit(url)\n",
    "time.sleep(1)\n",
    "html = browser.html\n",
    "soup = bs(html, \"html.parser\")\n",
    "mars_ed = soup.find_all('td', class_=\"column-2\")[0].text\n",
    "mars_pd = soup.find_all('td', class_=\"column-2\")[1].text\n",
    "mars_mass = soup.find_all('td', class_=\"column-2\")[2].text\n",
    "mars_moons = soup.find_all('td', class_=\"column-2\")[3].text\n",
    "mars_od = soup.find_all('td', class_=\"column-2\")[4].text\n",
    "mars_st = soup.find_all('td', class_=\"column-2\")[5].text\n",
    "mars_fr = soup.find_all('td', class_=\"column-2\")[6].text\n",
    "mars_rb = soup.find_all('td', class_=\"column-2\")[7].text"
   ]
  },
  {
   "cell_type": "code",
   "execution_count": 52,
   "metadata": {},
   "outputs": [
    {
     "data": {
      "text/plain": [
       "[<td class=\"column-2\">6,792 km<br/></td>,\n",
       " <td class=\"column-2\">6,752 km<br/></td>,\n",
       " <td class=\"column-2\">6.39 × 10^23 kg<br/> (0.11 Earths)</td>,\n",
       " <td class=\"column-2\">2 (<a href=\"https://space-facts.com/moons/phobos/\">Phobos</a> &amp; <a href=\"https://space-facts.com/moons/deimos/\">Deimos</a>)</td>,\n",
       " <td class=\"column-2\">227,943,824 km<br/> (1.38 AU)</td>,\n",
       " <td class=\"column-2\">687 days (1.9 years)<br/></td>,\n",
       " <td class=\"column-2\">-87 to -5 °C</td>,\n",
       " <td class=\"column-2\">2nd millennium BC</td>,\n",
       " <td class=\"column-2\">Egyptian astronomers</td>,\n",
       " <td class=\"column-2\"><span class=\"mars-s\">6,779 km</span></td>,\n",
       " <td class=\"column-2\"><span class=\"mars-s\">6.39 × 10^23 kg</span></td>,\n",
       " <td class=\"column-2\"><span class=\"mars-s\">2</span></td>,\n",
       " <td class=\"column-2\"><span class=\"mars-s\">227,943,824 km</span></td>,\n",
       " <td class=\"column-2\"><span class=\"mars-s\">687 Earth days</span></td>,\n",
       " <td class=\"column-2\"><span class=\"mars-s\">-153 to 20 °C</span></td>,\n",
       " <td class=\"column-2\">6,792 km<br/></td>,\n",
       " <td class=\"column-2\">6,752 km<br/></td>,\n",
       " <td class=\"column-2\">6.39 × 10^23 kg<br/> (0.11 Earths)</td>,\n",
       " <td class=\"column-2\">2 (<a href=\"https://space-facts.com/moons/phobos/\">Phobos</a> &amp; <a href=\"https://space-facts.com/moons/deimos/\">Deimos</a>)</td>,\n",
       " <td class=\"column-2\">227,943,824 km<br/> (1.38 AU)</td>,\n",
       " <td class=\"column-2\">687 days (1.9 years)<br/></td>,\n",
       " <td class=\"column-2\">-87 to -5 °C</td>,\n",
       " <td class=\"column-2\">2nd millennium BC</td>,\n",
       " <td class=\"column-2\">Egyptian astronomers</td>]"
      ]
     },
     "execution_count": 52,
     "metadata": {},
     "output_type": "execute_result"
    }
   ],
   "source": [
    "mars_facts"
   ]
  },
  {
   "cell_type": "code",
   "execution_count": 54,
   "metadata": {},
   "outputs": [
    {
     "name": "stdout",
     "output_type": "stream",
     "text": [
      "6,792 km\n",
      "6,752 km\n"
     ]
    }
   ],
   "source": [
    "print(mars_ed)\n",
    "print(mars_pd)"
   ]
  },
  {
   "cell_type": "code",
   "execution_count": 3,
   "metadata": {},
   "outputs": [],
   "source": [
    "browser = init_browser()\n",
    "url = \"https://astrogeology.usgs.gov/search/results?q=hemisphere+enhanced&k1=target&v1=Mars\"\n",
    "browser.visit(url)\n",
    "time.sleep(1)\n",
    "html = browser.html\n",
    "soup = bs(html, \"html.parser\")\n",
    "mars_hem = soup.find_all('img', class_='thumb')"
   ]
  },
  {
   "cell_type": "code",
   "execution_count": 4,
   "metadata": {},
   "outputs": [
    {
     "data": {
      "text/plain": [
       "[<img alt=\"Cerberus Hemisphere Enhanced thumbnail\" class=\"thumb\" src=\"/cache/images/39d3266553462198bd2fbc4d18fbed17_cerberus_enhanced.tif_thumb.png\"/>,\n",
       " <img alt=\"Schiaparelli Hemisphere Enhanced thumbnail\" class=\"thumb\" src=\"/cache/images/08eac6e22c07fb1fe72223a79252de20_schiaparelli_enhanced.tif_thumb.png\"/>,\n",
       " <img alt=\"Syrtis Major Hemisphere Enhanced thumbnail\" class=\"thumb\" src=\"/cache/images/55a0a1e2796313fdeafb17c35925e8ac_syrtis_major_enhanced.tif_thumb.png\"/>,\n",
       " <img alt=\"Valles Marineris Hemisphere Enhanced thumbnail\" class=\"thumb\" src=\"/cache/images/4e59980c1c57f89c680c0e1ccabbeff1_valles_marineris_enhanced.tif_thumb.png\"/>]"
      ]
     },
     "execution_count": 4,
     "metadata": {},
     "output_type": "execute_result"
    }
   ],
   "source": [
    "mars_hem"
   ]
  },
  {
   "cell_type": "code",
   "execution_count": 14,
   "metadata": {},
   "outputs": [
    {
     "name": "stdout",
     "output_type": "stream",
     "text": [
      "[{'title': 'Cerberus Hemisphere Enhanced thumbnail', 'img_url': 'https://astrogeology.usgs.gov/cache/images/39d3266553462198bd2fbc4d18fbed17_cerberus_enhanced.tif_thumb.png'}, {'title': 'Schiaparelli Hemisphere Enhanced thumbnail', 'img_url': 'https://astrogeology.usgs.gov/cache/images/08eac6e22c07fb1fe72223a79252de20_schiaparelli_enhanced.tif_thumb.png'}, {'title': 'Syrtis Major Hemisphere Enhanced thumbnail', 'img_url': 'https://astrogeology.usgs.gov/cache/images/55a0a1e2796313fdeafb17c35925e8ac_syrtis_major_enhanced.tif_thumb.png'}, {'title': 'Valles Marineris Hemisphere Enhanced thumbnail', 'img_url': 'https://astrogeology.usgs.gov/cache/images/4e59980c1c57f89c680c0e1ccabbeff1_valles_marineris_enhanced.tif_thumb.png'}]\n"
     ]
    }
   ],
   "source": [
    "hemisphere_image_urls = []\n",
    "for image in mars_hem:\n",
    "    #print image source\n",
    "#     print('https://astrogeology.usgs.gov' + image['src'])\n",
    "    #print alternate text\n",
    "#     print(image['alt'])\n",
    "    hemisphere_image_urls.append({'title': image['alt'], 'img_url': 'https://astrogeology.usgs.gov' + image['src'] })\n",
    "\n",
    "print(hemisphere_image_urls)"
   ]
  },
  {
   "cell_type": "code",
   "execution_count": null,
   "metadata": {},
   "outputs": [],
   "source": []
  }
 ],
 "metadata": {
  "kernelspec": {
   "display_name": "pythondata",
   "language": "python",
   "name": "pythondata"
  },
  "language_info": {
   "codemirror_mode": {
    "name": "ipython",
    "version": 3
   },
   "file_extension": ".py",
   "mimetype": "text/x-python",
   "name": "python",
   "nbconvert_exporter": "python",
   "pygments_lexer": "ipython3",
   "version": "3.8.2"
  }
 },
 "nbformat": 4,
 "nbformat_minor": 4
}
