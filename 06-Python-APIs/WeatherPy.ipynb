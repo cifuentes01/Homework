{
 "cells": [
  {
   "cell_type": "markdown",
   "metadata": {},
   "source": [
    "# WeatherPy\n",
    "----\n",
    "\n",
    "#### Note\n",
    "* Instructions have been included for each segment. You do not have to follow them exactly, but they are included to help you think through the steps."
   ]
  },
  {
   "cell_type": "code",
   "execution_count": 20,
   "metadata": {
    "scrolled": true
   },
   "outputs": [],
   "source": [
    "# Dependencies and Setup\n",
    "import matplotlib.pyplot as plt\n",
    "import pandas as pd\n",
    "import numpy as np\n",
    "import requests\n",
    "import time\n",
    "from scipy.stats import linregress\n",
    "import datetime as dt\n",
    "\n",
    "# Import API key\n",
    "from api_keys import weather_api_key\n",
    "\n",
    "# Incorporated citipy to determine city based on latitude and longitude\n",
    "from citipy import citipy\n",
    "\n",
    "# Output File (CSV)\n",
    "output_data_file = \"output_data/cities.csv\"         #!!!!!!!!!!!\n",
    "\n",
    "# Range of latitudes and longitudes\n",
    "lat_range = (-90, 90)\n",
    "lng_range = (-180, 180)"
   ]
  },
  {
   "cell_type": "markdown",
   "metadata": {},
   "source": [
    "## Generate Cities List"
   ]
  },
  {
   "cell_type": "code",
   "execution_count": 6,
   "metadata": {},
   "outputs": [
    {
     "data": {
      "text/plain": [
       "613"
      ]
     },
     "execution_count": 6,
     "metadata": {},
     "output_type": "execute_result"
    }
   ],
   "source": [
    "# List for holding lat_lngs and cities\n",
    "lat_lngs = []\n",
    "cities = []\n",
    "\n",
    "# Set np.random.seed\n",
    "np.random.seed(11)\n",
    "\n",
    "# Create a set of random lat and lng combinations\n",
    "lats = np.random.uniform(low=-90.000, high=90.000, size=1500)\n",
    "lngs = np.random.uniform(low=-180.000, high=180.000, size=1500)\n",
    "lat_lngs = zip(lats, lngs)\n",
    "\n",
    "# Identify nearest city for each lat, lng combination\n",
    "for lat_lng in lat_lngs:\n",
    "    city = citipy.nearest_city(lat_lng[0], lat_lng[1]).city_name\n",
    "    \n",
    "    # If the city is unique, then add it to a our cities list\n",
    "    if city not in cities:\n",
    "        cities.append(city)\n",
    "\n",
    "# Print the city count to confirm sufficient count\n",
    "len(cities)"
   ]
  },
  {
   "cell_type": "markdown",
   "metadata": {},
   "source": [
    "### Perform API Calls\n",
    "* Perform a weather check on each city using a series of successive API calls.\n",
    "* Include a print log of each city as it'sbeing processed (with the city number and city name).\n"
   ]
  },
  {
   "cell_type": "code",
   "execution_count": 7,
   "metadata": {},
   "outputs": [],
   "source": [
    "url = \"http://api.openweathermap.org/data/2.5/weather?\" # + \"appid=\" + weather_api_key + \"&q=\"\n",
    "units = \"imperial\"\n",
    "# Build partial query URL\n",
    "query_url = f\"{url}appid={weather_api_key}&units={units}&q=\"\n",
    "\n",
    "#cities_list = [\"new norfolk\",\"rikitea\",\"saleaula\"]                      #!!!!!!!!!!!\n",
    "\n",
    "#store responses\n",
    "response_json = []\n",
    "\n",
    "#store city number\n",
    "num_of_city = 0\n",
    "\n",
    "#store data for DataFrame\n",
    "city_ = []\n",
    "cloudiness = []\n",
    "country = []\n",
    "date = []\n",
    "humidity = []\n",
    "lat = []\n",
    "lng = []\n",
    "max_temp = []\n",
    "wind_speed = []"
   ]
  },
  {
   "cell_type": "code",
   "execution_count": 8,
   "metadata": {},
   "outputs": [
    {
     "name": "stdout",
     "output_type": "stream",
     "text": [
      "Beginning Data Retrieval\n",
      "-------------------------------------\n",
      " Processing Record 1: New Norfolk.\n",
      " Processing Record 2: Rikitea.\n",
      "City not found. Skipping...\n",
      " Processing Record 4: Port Hawkesbury.\n",
      " Processing Record 5: Alyangula.\n",
      " Processing Record 6: Puerto Ayora.\n",
      " Processing Record 7: Punta Arenas.\n",
      " Processing Record 8: Hithadhoo.\n",
      " Processing Record 9: Barrow.\n",
      "City not found. Skipping...\n",
      " Processing Record 11: Areosa.\n",
      " Processing Record 12: Mar del Plata.\n",
      " Processing Record 13: Saskylakh.\n",
      " Processing Record 14: Tasiilaq.\n",
      " Processing Record 15: Cape Town.\n",
      " Processing Record 16: Cabañas.\n",
      " Processing Record 17: Albany.\n",
      " Processing Record 18: Geraldton.\n",
      " Processing Record 19: Mataura.\n",
      " Processing Record 20: Rabo de Peixe.\n",
      " Processing Record 21: Boddam.\n",
      " Processing Record 22: Lüderitz.\n",
      " Processing Record 23: Ahipara.\n",
      " Processing Record 24: Port Alfred.\n",
      " Processing Record 25: Kumul.\n",
      " Processing Record 26: Ponta do Sol.\n",
      " Processing Record 27: Ushuaia.\n",
      " Processing Record 28: Faanui.\n",
      " Processing Record 29: Bengkulu.\n",
      " Processing Record 30: Pangnirtung.\n",
      " Processing Record 31: Tamayo.\n",
      " Processing Record 32: Mabaruma.\n",
      " Processing Record 33: Cherskiy.\n",
      "City not found. Skipping...\n",
      " Processing Record 35: Port Augusta.\n",
      " Processing Record 36: Arraial do Cabo.\n",
      " Processing Record 37: Khuzhir.\n",
      " Processing Record 38: Bluff.\n",
      " Processing Record 39: Kruisfontein.\n",
      " Processing Record 40: Laguna.\n",
      " Processing Record 41: Yarovoy.\n",
      " Processing Record 42: Clyde River.\n",
      " Processing Record 43: Osinki.\n",
      " Processing Record 44: Kavaratti.\n",
      " Processing Record 45: Hilo.\n",
      " Processing Record 46: Inhambane.\n",
      " Processing Record 47: Hermanus.\n",
      " Processing Record 48: Gurupi.\n",
      " Processing Record 49: Eureka.\n",
      " Processing Record 50: Busselton.\n",
      " Processing Record 51: Dingle.\n",
      " Processing Record 52: Murray Bridge.\n",
      " Processing Record 53: Roanoke Rapids.\n",
      " Processing Record 54: Hohhot.\n",
      " Processing Record 55: Norman Wells.\n",
      "City not found. Skipping...\n",
      " Processing Record 57: Yerofey Pavlovich.\n",
      " Processing Record 58: Dormidontovka.\n",
      " Processing Record 59: Los Llanos de Aridane.\n",
      " Processing Record 60: Saint Anthony.\n",
      " Processing Record 61: Bantou.\n",
      "City not found. Skipping...\n",
      " Processing Record 63: Babušnica.\n",
      " Processing Record 64: Longyearbyen.\n",
      " Processing Record 65: Carnarvon.\n",
      "City not found. Skipping...\n",
      " Processing Record 67: Isangel.\n",
      " Processing Record 68: Ayagoz.\n",
      " Processing Record 69: Jamestown.\n",
      " Processing Record 70: Atar.\n",
      " Processing Record 71: Bethel.\n",
      " Processing Record 72: Santiago.\n",
      "City not found. Skipping...\n",
      " Processing Record 74: Nanortalik.\n",
      " Processing Record 75: Iqaluit.\n",
      " Processing Record 76: Arrondissement d'Ajaccio.\n",
      " Processing Record 77: Yellowknife.\n",
      " Processing Record 78: Jodhpur.\n",
      " Processing Record 79: Torbay.\n",
      " Processing Record 80: Nikolskoye.\n",
      " Processing Record 81: Esperance.\n",
      " Processing Record 82: Constitución.\n",
      " Processing Record 83: Lompoc.\n",
      " Processing Record 84: Kapaa.\n",
      " Processing Record 85: Lebu.\n",
      " Processing Record 86: Bredasdorp.\n",
      " Processing Record 87: Ashgabat.\n",
      " Processing Record 88: Jiazi.\n",
      " Processing Record 89: Ancud.\n",
      " Processing Record 90: Jalu.\n",
      " Processing Record 91: Fort Nelson.\n",
      " Processing Record 92: San Patricio.\n",
      " Processing Record 93: Leningradskiy.\n",
      " Processing Record 94: Bahía Blanca.\n",
      " Processing Record 95: Touros.\n",
      "City not found. Skipping...\n",
      " Processing Record 97: Altoona.\n",
      " Processing Record 98: Caucayá.\n",
      " Processing Record 99: Castaños.\n",
      " Processing Record 100: Atuona.\n",
      "City not found. Skipping...\n",
      " Processing Record 102: Khatanga.\n",
      " Processing Record 103: Yangi Marg`ilon.\n",
      " Processing Record 104: Kizema.\n",
      " Processing Record 105: Savelugu.\n",
      " Processing Record 106: Emerald.\n",
      " Processing Record 107: Ostrovnoy.\n",
      " Processing Record 108: Thompson.\n",
      " Processing Record 109: Sola.\n",
      " Processing Record 110: Airai.\n",
      " Processing Record 111: Havøysund.\n",
      " Processing Record 112: Puerto Carreño.\n",
      " Processing Record 113: Souillac.\n",
      " Processing Record 114: Colares.\n",
      " Processing Record 115: Balaipungut.\n",
      " Processing Record 116: Kaitangata.\n",
      "City not found. Skipping...\n",
      " Processing Record 118: Vaini.\n",
      " Processing Record 119: Hobart.\n",
      " Processing Record 120: Saint Paul Harbor.\n",
      " Processing Record 121: Tārūt.\n",
      " Processing Record 122: Whitehorse.\n",
      " Processing Record 123: Qaanaaq.\n",
      " Processing Record 124: Timmins.\n",
      " Processing Record 125: Anori.\n",
      " Processing Record 126: Ilulissat.\n",
      " Processing Record 127: Taltal.\n",
      " Processing Record 128: Cabo San Lucas.\n",
      "City not found. Skipping...\n",
      " Processing Record 130: Avarua.\n",
      " Processing Record 131: Vitim.\n",
      " Processing Record 132: Saint-Pierre.\n",
      " Processing Record 133: Saint-Philippe.\n",
      " Processing Record 134: East London.\n",
      " Processing Record 135: Plettenberg Bay.\n",
      " Processing Record 136: Castro.\n",
      " Processing Record 137: Ushtobe.\n",
      " Processing Record 138: Sistranda.\n",
      " Processing Record 139: Grand Gaube.\n",
      " Processing Record 140: Port Elizabeth.\n",
      " Processing Record 141: Edd.\n",
      " Processing Record 142: Beidao.\n",
      " Processing Record 143: Champerico.\n",
      " Processing Record 144: Kavieng.\n",
      " Processing Record 145: Chokurdakh.\n",
      " Processing Record 146: Betong.\n",
      "City not found. Skipping...\n",
      " Processing Record 148: Yulara.\n",
      " Processing Record 149: Tuatapere.\n",
      " Processing Record 150: Bogorodskoye.\n",
      " Processing Record 151: Melita.\n",
      " Processing Record 152: Bol.\n",
      " Processing Record 153: Arlit.\n",
      " Processing Record 154: Henties Bay.\n",
      " Processing Record 155: Dikson.\n",
      " Processing Record 156: Guajará.\n",
      " Processing Record 157: Salinas.\n",
      " Processing Record 158: Severo-Kuril'sk.\n",
      " Processing Record 159: Padang.\n",
      " Processing Record 160: Mossamedes.\n",
      " Processing Record 161: Chapada dos Guimarães.\n",
      " Processing Record 162: Kirakira.\n",
      " Processing Record 163: Mehamn.\n",
      " Processing Record 164: Belaya Gora.\n",
      " Processing Record 165: Ribeira Grande.\n",
      " Processing Record 166: Koungou.\n",
      " Processing Record 167: Charlestown.\n",
      " Processing Record 168: Guerrero Negro.\n",
      " Processing Record 169: Chinsali.\n",
      " Processing Record 170: Bambous Virieux.\n",
      "City not found. Skipping...\n",
      " Processing Record 172: Pisco.\n",
      " Processing Record 173: Alofi.\n",
      " Processing Record 174: Hofn.\n",
      " Processing Record 175: Yaring.\n",
      "City not found. Skipping...\n",
      " Processing Record 177: Weiswampach.\n",
      " Processing Record 178: Port-Gentil.\n",
      " Processing Record 179: Port Macquarie.\n",
      " Processing Record 180: Nuuk.\n",
      " Processing Record 181: Paamiut.\n",
      " Processing Record 182: Richards Bay.\n",
      " Processing Record 183: Lorengau.\n",
      " Processing Record 184: Bembèrèkè.\n",
      " Processing Record 185: Mersing.\n",
      " Processing Record 186: Talnakh.\n",
      " Processing Record 187: Upernavik.\n",
      "City not found. Skipping...\n",
      "City not found. Skipping...\n",
      " Processing Record 190: Kungurtug.\n",
      " Processing Record 191: Udomlya.\n",
      " Processing Record 192: Alice Springs.\n",
      " Processing Record 193: Butaritari.\n",
      " Processing Record 194: Aykhal.\n",
      " Processing Record 195: Shimoda.\n",
      " Processing Record 196: Cockburn Town.\n",
      " Processing Record 197: Cidreira.\n",
      " Processing Record 198: Mahébourg.\n",
      " Processing Record 199: Pochutla.\n",
      " Processing Record 200: Multan.\n",
      " Processing Record 201: Kushmurun.\n",
      " Processing Record 202: Mafinga.\n",
      "City not found. Skipping...\n",
      " Processing Record 204: Babol.\n",
      "City not found. Skipping...\n",
      " Processing Record 206: Ulaanbaatar.\n",
      " Processing Record 207: Praia da Vitória.\n",
      " Processing Record 208: San Quintín.\n",
      " Processing Record 209: Lexington Park.\n",
      " Processing Record 210: Jagtiāl.\n",
      " Processing Record 211: Boma.\n",
      "City not found. Skipping...\n",
      " Processing Record 213: Bayangol.\n",
      " Processing Record 214: Aswān.\n",
      " Processing Record 215: Vastseliina.\n",
      " Processing Record 216: Ouro Preto do Oeste.\n",
      " Processing Record 217: Fare.\n",
      " Processing Record 218: St. George's.\n",
      "City not found. Skipping...\n",
      " Processing Record 220: Aitape.\n",
      " Processing Record 221: Usoke.\n",
      "City not found. Skipping...\n",
      " Processing Record 223: Deputatsky.\n",
      " Processing Record 224: Valdivia.\n",
      "City not found. Skipping...\n",
      "City not found. Skipping...\n",
      " Processing Record 227: Codrington.\n",
      " Processing Record 228: Nelson Bay.\n",
      " Processing Record 229: Umm Kaddadah.\n",
      "City not found. Skipping...\n",
      " Processing Record 231: Assiut.\n",
      " Processing Record 232: Martapura.\n",
      " Processing Record 233: Mount Gambier.\n",
      " Processing Record 234: Olinda.\n",
      " Processing Record 235: Resistencia.\n",
      " Processing Record 236: Miramar.\n",
      " Processing Record 237: Taoudenni.\n",
      " Processing Record 238: Lovozero.\n",
      "City not found. Skipping...\n",
      "City not found. Skipping...\n",
      " Processing Record 241: Tuktoyaktuk.\n",
      " Processing Record 242: Tuntum.\n",
      " Processing Record 243: Nushki.\n",
      " Processing Record 244: Shakawe.\n",
      "City not found. Skipping...\n",
      " Processing Record 246: Kodinsk.\n",
      " Processing Record 247: São Félix do Xingu.\n",
      "City not found. Skipping...\n",
      "City not found. Skipping...\n",
      " Processing Record 250: Tiksi.\n",
      " Processing Record 251: Hirara.\n",
      " Processing Record 252: Māngrol.\n",
      " Processing Record 253: Benito Juarez.\n",
      " Processing Record 254: Paita.\n",
      " Processing Record 255: Namatanai.\n",
      " Processing Record 256: Salalah.\n",
      "City not found. Skipping...\n",
      " Processing Record 258: Sharjah city.\n",
      " Processing Record 259: Sortavala.\n",
      " Processing Record 260: Kalamata.\n",
      " Processing Record 261: Kashihara-shi.\n",
      " Processing Record 262: Porto-Novo.\n",
      "City not found. Skipping...\n",
      " Processing Record 264: ‘Āhuimanu.\n",
      " Processing Record 265: Cukai.\n",
      " Processing Record 266: George Town.\n",
      " Processing Record 267: Teplyk.\n",
      " Processing Record 268: Ust-Kuyga.\n",
      " Processing Record 269: Baghdad.\n",
      " Processing Record 270: Denpasar.\n",
      " Processing Record 271: Saint George.\n",
      " Processing Record 272: Half Moon Bay.\n",
      " Processing Record 273: Vardø.\n",
      " Processing Record 274: Curuguaty.\n",
      " Processing Record 275: Labuhan.\n",
      " Processing Record 276: Saint-Joseph.\n",
      " Processing Record 277: Grindavik.\n",
      " Processing Record 278: Acaraú.\n",
      " Processing Record 279: Lagoa.\n",
      " Processing Record 280: Christchurch.\n",
      " Processing Record 281: Narsaq.\n",
      " Processing Record 282: Waingapu.\n",
      " Processing Record 283: Likasi.\n",
      " Processing Record 284: Esso.\n",
      " Processing Record 285: Sligo.\n",
      " Processing Record 286: Okhotsk.\n",
      " Processing Record 287: Maţāy.\n",
      " Processing Record 288: Beringovskiy.\n",
      " Processing Record 289: Buchanan.\n",
      " Processing Record 290: Provideniya.\n",
      " Processing Record 291: Samarai.\n",
      " Processing Record 292: Akureyri.\n",
      " Processing Record 293: Gamba.\n",
      " Processing Record 294: Hong Kong.\n",
      " Processing Record 295: Mil'kovo.\n",
      " Processing Record 296: Nortelândia.\n",
      " Processing Record 297: Prince Rupert.\n",
      " Processing Record 298: Mount Isa.\n",
      " Processing Record 299: Berlevåg.\n",
      " Processing Record 300: Caxito.\n",
      " Processing Record 301: Srednekolymsk.\n",
      " Processing Record 302: Qui Nhon.\n",
      " Processing Record 303: Chui.\n",
      " Processing Record 304: Kirgiz-Miyaki.\n",
      " Processing Record 305: Schwaz.\n",
      " Processing Record 306: Sitka.\n",
      " Processing Record 307: Zhigansk.\n",
      " Processing Record 308: Zvishavane.\n",
      " Processing Record 309: Mergen.\n",
      " Processing Record 310: Marabu.\n",
      " Processing Record 311: Musoma.\n",
      " Processing Record 312: Dickinson.\n",
      " Processing Record 313: Huarmey.\n",
      " Processing Record 314: Hunterville.\n",
      " Processing Record 315: Talara.\n",
      " Processing Record 316: São José da Coroa Grande.\n",
      " Processing Record 317: Kahului.\n",
      " Processing Record 318: Kipini.\n",
      " Processing Record 319: Amapá.\n",
      " Processing Record 320: Saldanha.\n",
      " Processing Record 321: Churapcha.\n",
      " Processing Record 322: Kutum.\n",
      " Processing Record 323: Grants.\n",
      " Processing Record 324: Yar-Sale.\n",
      " Processing Record 325: Oktyabr'skiy.\n",
      " Processing Record 326: Paraíso.\n",
      " Processing Record 327: Kukushtan.\n",
      " Processing Record 328: Micheweni.\n",
      " Processing Record 329: Muroto-misakicho.\n",
      " Processing Record 330: Avera.\n",
      " Processing Record 331: Novoomskiy.\n",
      " Processing Record 332: Long Beach.\n",
      " Processing Record 333: Sinnamary.\n",
      " Processing Record 334: Oodweyne.\n",
      " Processing Record 335: Charter Township of Clinton.\n",
      " Processing Record 336: Cap Malheureux.\n",
      " Processing Record 337: Biskamzha.\n",
      " Processing Record 338: Hasaki.\n",
      " Processing Record 339: Peterhead.\n",
      " Processing Record 340: Marawi.\n",
      " Processing Record 341: Lubin.\n",
      " Processing Record 342: Boueni.\n",
      " Processing Record 343: Peniche.\n",
      " Processing Record 344: Nyrob.\n",
      " Processing Record 345: Meulaboh.\n",
      " Processing Record 346: Laas.\n",
      " Processing Record 347: Barcelos.\n",
      "City not found. Skipping...\n",
      "City not found. Skipping...\n",
      " Processing Record 350: Ponta Delgada.\n",
      " Processing Record 351: Vila Franca do Campo.\n",
      " Processing Record 352: Rome.\n",
      " Processing Record 353: San Andrés.\n",
      "City not found. Skipping...\n",
      " Processing Record 355: Marzuq.\n",
      " Processing Record 356: Fortuna.\n",
      " Processing Record 357: Nome.\n",
      " Processing Record 358: Kuusamo.\n",
      " Processing Record 359: Miandrivazo.\n",
      " Processing Record 360: Maryborough.\n",
      " Processing Record 361: Tikhvin.\n",
      " Processing Record 362: Silver City.\n",
      "City not found. Skipping...\n",
      " Processing Record 364: Jining.\n",
      "City not found. Skipping...\n",
      " Processing Record 366: Shatsk.\n",
      " Processing Record 367: Umm Hājar.\n",
      " Processing Record 368: Dāmghān.\n",
      " Processing Record 369: Carmo do Rio Claro.\n",
      " Processing Record 370: Sioux Lookout.\n",
      " Processing Record 371: Yulin.\n",
      "City not found. Skipping...\n",
      " Processing Record 373: Roald.\n",
      " Processing Record 374: Boende.\n",
      " Processing Record 375: Ixtapa.\n",
      " Processing Record 376: Hamilton.\n",
      " Processing Record 377: Borova.\n",
      " Processing Record 378: Semey.\n",
      " Processing Record 379: Bima.\n",
      " Processing Record 380: Little Current.\n",
      " Processing Record 381: Yeppoon.\n",
      " Processing Record 382: Gōtsuchō.\n",
      " Processing Record 383: Alexandria.\n",
      " Processing Record 384: Beatrice.\n",
      " Processing Record 385: Erzin.\n",
      " Processing Record 386: Faya.\n",
      " Processing Record 387: Sechura.\n",
      " Processing Record 388: Nemuro.\n",
      " Processing Record 389: São Filipe.\n",
      "City not found. Skipping...\n",
      "City not found. Skipping...\n",
      " Processing Record 392: Hobyo.\n",
      " Processing Record 393: Cairns.\n",
      " Processing Record 394: Ayan.\n",
      " Processing Record 395: Bilma.\n",
      " Processing Record 396: Tres Arroyos.\n",
      " Processing Record 397: Bălţăteşti.\n",
      " Processing Record 398: Zaysan.\n",
      " Processing Record 399: Orlik.\n",
      " Processing Record 400: Truro.\n",
      " Processing Record 401: Port Hardy.\n",
      " Processing Record 402: Turukhansk.\n",
      " Processing Record 403: Dwārka.\n",
      " Processing Record 404: Turbat.\n",
      " Processing Record 405: City of San Pedro.\n",
      " Processing Record 406: Kaoma.\n",
      " Processing Record 407: Natal.\n",
      " Processing Record 408: Northam.\n",
      " Processing Record 409: Pevek.\n",
      " Processing Record 410: Lavrentiya.\n",
      " Processing Record 411: Tessalit.\n",
      " Processing Record 412: Muros.\n",
      " Processing Record 413: Ugoofaaru.\n",
      " Processing Record 414: Banjar.\n",
      " Processing Record 415: Caçador.\n",
      " Processing Record 416: Belmonte.\n",
      " Processing Record 417: Uva.\n",
      " Processing Record 418: Karratha.\n",
      " Processing Record 419: Porirua.\n",
      " Processing Record 420: Antofagasta.\n",
      " Processing Record 421: Coari.\n",
      " Processing Record 422: Sandwick.\n",
      " Processing Record 423: Grimshaw.\n",
      " Processing Record 424: Comodoro Rivadavia.\n",
      " Processing Record 425: Sangīn.\n",
      " Processing Record 426: North Bend.\n",
      " Processing Record 427: Dunedin.\n",
      " Processing Record 428: Wawa.\n",
      " Processing Record 429: Margate.\n",
      " Processing Record 430: Ambon City.\n",
      " Processing Record 431: Nyurba.\n",
      " Processing Record 432: Mabopane.\n",
      " Processing Record 433: Yining.\n",
      " Processing Record 434: Saint-Marc.\n",
      " Processing Record 435: Igrim.\n",
      " Processing Record 436: Chërnaya Kholunitsa.\n",
      " Processing Record 437: Severnyy.\n",
      " Processing Record 438: Bhag.\n",
      " Processing Record 439: Bathsheba.\n",
      " Processing Record 440: Hambantota.\n",
      " Processing Record 441: Zhob.\n",
      " Processing Record 442: Pingliang.\n",
      " Processing Record 443: Iberia.\n",
      " Processing Record 444: Cam Ranh.\n",
      " Processing Record 445: Vostok.\n",
      " Processing Record 446: Barroquinha.\n",
      " Processing Record 447: Mogadishu.\n",
      " Processing Record 448: Villa Carlos Paz.\n",
      " Processing Record 449: Kouango.\n",
      " Processing Record 450: Flinders.\n",
      " Processing Record 451: Broken Hill.\n",
      " Processing Record 452: La Concordia.\n",
      " Processing Record 453: Bilibino.\n",
      " Processing Record 454: Dalhousie.\n",
      " Processing Record 455: Port Hedland.\n",
      " Processing Record 456: Pryazha.\n",
      " Processing Record 457: Gull Lake.\n",
      " Processing Record 458: Zanjān.\n",
      " Processing Record 459: Ormond Beach.\n",
      " Processing Record 460: Redlands.\n",
      " Processing Record 461: Aklavik.\n",
      " Processing Record 462: Lewisporte.\n",
      " Processing Record 463: Mutsu.\n",
      " Processing Record 464: Tashtyp.\n",
      " Processing Record 465: Torres.\n",
      " Processing Record 466: Sri Aman.\n",
      " Processing Record 467: Bealanana.\n",
      " Processing Record 468: Beltangadi.\n",
      " Processing Record 469: Barra Patuca.\n",
      " Processing Record 470: Jacareacanga.\n",
      " Processing Record 471: Kassala.\n",
      "City not found. Skipping...\n",
      " Processing Record 473: Marsh Harbour.\n",
      " Processing Record 474: Korla.\n",
      " Processing Record 475: Alta Floresta.\n",
      " Processing Record 476: Yumen.\n",
      "City not found. Skipping...\n",
      " Processing Record 478: Cambridge.\n",
      "City not found. Skipping...\n",
      " Processing Record 480: Waipawa.\n",
      " Processing Record 481: Marabba.\n",
      " Processing Record 482: Antsohihy.\n",
      " Processing Record 483: Rock Springs.\n",
      " Processing Record 484: Saint-François.\n",
      " Processing Record 485: Le Port.\n",
      " Processing Record 486: Tocopilla.\n",
      " Processing Record 487: Goundam.\n",
      " Processing Record 488: Balkhash.\n",
      " Processing Record 489: Shīeli.\n",
      " Processing Record 490: Qena.\n",
      " Processing Record 491: Hvolsvollur.\n",
      " Processing Record 492: Chadiza.\n",
      "City not found. Skipping...\n",
      " Processing Record 494: Kumbo.\n",
      " Processing Record 495: Jinji.\n",
      " Processing Record 496: Port Blair.\n",
      " Processing Record 497: Poum.\n",
      " Processing Record 498: Paka.\n",
      " Processing Record 499: Kysyl-Syr.\n",
      " Processing Record 500: Pangkalanbuun.\n",
      " Processing Record 501: Ecoporanga.\n",
      " Processing Record 502: Acapulco de Juárez.\n",
      " Processing Record 503: Coyhaique.\n",
      " Processing Record 504: Madiun.\n",
      "City not found. Skipping...\n",
      " Processing Record 506: Charters Towers.\n",
      " Processing Record 507: Naze.\n",
      " Processing Record 508: Banda Aceh.\n",
      " Processing Record 509: Inta.\n",
      " Processing Record 510: Vallenar.\n",
      " Processing Record 511: Sisimiut.\n",
      " Processing Record 512: Uruguaiana.\n",
      " Processing Record 513: Kukuna.\n",
      " Processing Record 514: Prince George.\n",
      " Processing Record 515: Nelson.\n",
      " Processing Record 516: Nālūt.\n",
      " Processing Record 517: Grand-Santi.\n",
      " Processing Record 518: Kautokeino.\n",
      " Processing Record 519: Homer.\n",
      " Processing Record 520: Putina.\n",
      " Processing Record 521: San Anselmo.\n",
      " Processing Record 522: Bud.\n",
      " Processing Record 523: São Miguel do Araguaia.\n",
      " Processing Record 524: Aksu.\n",
      " Processing Record 525: Krasnosel'kup.\n",
      " Processing Record 526: Khovd.\n",
      " Processing Record 527: Springfield.\n",
      " Processing Record 528: Nassau.\n",
      " Processing Record 529: Urubamba.\n",
      " Processing Record 530: Ballarat.\n",
      " Processing Record 531: Monte Alegre.\n",
      " Processing Record 532: Adrar.\n",
      " Processing Record 533: Kamenka.\n",
      " Processing Record 534: Katherine.\n",
      " Processing Record 535: Akşehir.\n",
      " Processing Record 536: Santa Maria.\n",
      " Processing Record 537: Broome.\n",
      " Processing Record 538: Naila.\n",
      " Processing Record 539: Knysna.\n",
      " Processing Record 540: Serpa.\n",
      " Processing Record 541: Haimen.\n",
      " Processing Record 542: Calabozo.\n",
      " Processing Record 543: Diamantino.\n",
      " Processing Record 544: Mtinko.\n",
      " Processing Record 545: Ust-Maya.\n",
      "City not found. Skipping...\n",
      " Processing Record 547: Soe.\n",
      " Processing Record 548: Bohuslav.\n",
      " Processing Record 549: Baisha.\n",
      " Processing Record 550: Vila.\n",
      " Processing Record 551: Sirte.\n",
      " Processing Record 552: Chapais.\n",
      " Processing Record 553: Muswellbrook.\n",
      " Processing Record 554: Beyneu.\n",
      " Processing Record 555: Le Havre.\n",
      " Processing Record 556: Westport.\n",
      " Processing Record 557: Vangaindrano.\n",
      " Processing Record 558: Bambey.\n",
      " Processing Record 559: Portland.\n",
      " Processing Record 560: Tarabuco.\n",
      " Processing Record 561: Ola.\n",
      " Processing Record 562: Tha Rua.\n",
      " Processing Record 563: Camacupa.\n",
      " Processing Record 564: Bhātāpāra.\n",
      " Processing Record 565: Ryazhsk.\n",
      " Processing Record 566: Taman'.\n",
      " Processing Record 567: Arrondissement de Montauban.\n",
      " Processing Record 568: Parry Sound.\n",
      " Processing Record 569: Imbituba.\n",
      " Processing Record 570: Palmer.\n",
      " Processing Record 571: Sorong.\n",
      " Processing Record 572: Katsuura.\n",
      " Processing Record 573: Rusnė.\n",
      " Processing Record 574: Elias Fausto.\n",
      " Processing Record 575: Springdale.\n",
      " Processing Record 576: Uglovskoye.\n",
      " Processing Record 577: Huichapan.\n",
      " Processing Record 578: Jertih.\n",
      " Processing Record 579: Qasigiannguit.\n",
      " Processing Record 580: Tutóia.\n",
      " Processing Record 581: São João da Barra.\n",
      " Processing Record 582: Suntar.\n",
      " Processing Record 583: Livingston.\n",
      " Processing Record 584: Fryanovo.\n",
      " Processing Record 585: Arman'.\n",
      " Processing Record 586: Bouna.\n",
      " Processing Record 587: Gizo Government Station.\n",
      " Processing Record 588: Dhrol.\n",
      " Processing Record 589: Ishurdi.\n",
      " Processing Record 590: Flin Flon.\n",
      " Processing Record 591: Kawalu.\n",
      " Processing Record 592: Mandera.\n",
      " Processing Record 593: Husavik.\n",
      " Processing Record 594: Bargur.\n",
      " Processing Record 595: Vila Velha.\n",
      " Processing Record 596: Fairbanks.\n",
      " Processing Record 597: Synya.\n",
      " Processing Record 598: Bar Harbor.\n",
      " Processing Record 599: Esim.\n",
      " Processing Record 600: Tilichiki.\n",
      " Processing Record 601: Smidovich.\n",
      " Processing Record 602: Nokaneng.\n",
      " Processing Record 603: San Cristobal.\n",
      " Processing Record 604: Sakakah.\n",
      " Processing Record 605: Idanre.\n",
      " Processing Record 606: Chissamba.\n",
      " Processing Record 607: Puerto Gaitán.\n",
      " Processing Record 608: Luga.\n",
      " Processing Record 609: Solnechnyy.\n",
      " Processing Record 610: Wanning.\n",
      " Processing Record 611: Oussouye.\n",
      " Processing Record 612: Baruun-Urt.\n",
      " Processing Record 613: Kibungo.\n",
      "-------------------------------------\n",
      "Data Retrieval Complete\n",
      "-------------------------------------\n"
     ]
    }
   ],
   "source": [
    "print(\"Beginning Data Retrieval\")\n",
    "print(\"-------------------------------------\")\n",
    "\n",
    "for city in cities:\n",
    "    \n",
    "# Build query URL\n",
    "    city_data = requests.get(query_url + city).json()\n",
    "\n",
    "    \n",
    "    try:\n",
    "        response_json.append(city_data)\n",
    "        num_of_city += 1\n",
    "        city_.append(city_data['name'])\n",
    "        cloudiness.append(city_data['clouds']['all'])\n",
    "        country.append(city_data['sys']['country'])\n",
    "        date.append(city_data['dt'])\n",
    "        humidity.append(city_data['main']['humidity'])\n",
    "        lat.append(city_data['coord']['lat'])\n",
    "        lng.append(city_data['coord']['lon'])\n",
    "        max_temp.append(city_data['main']['temp_max'])\n",
    "        wind_speed.append(city_data['wind']['speed'])\n",
    "        print(f\" Processing Record {(num_of_city)}: {city_data['name']}.\")\n",
    "\n",
    "    except (KeyError, IndexError):\n",
    "        print(\"City not found. Skipping...\")\n",
    "\n",
    "print(\"-------------------------------------\")\n",
    "print(\"Data Retrieval Complete\")\n",
    "print(\"-------------------------------------\")"
   ]
  },
  {
   "cell_type": "markdown",
   "metadata": {},
   "source": [
    "### Convert Raw Data to DataFrame\n",
    "* Export the city data into a .csv.\n",
    "* Display the DataFrame"
   ]
  },
  {
   "cell_type": "code",
   "execution_count": null,
   "metadata": {},
   "outputs": [],
   "source": []
  },
  {
   "cell_type": "code",
   "execution_count": 9,
   "metadata": {},
   "outputs": [],
   "source": [
    "weather_dict = {\n",
    "    \"City\": city_,\n",
    "    \"Cloudiness\": cloudiness,\n",
    "    \"Country\": country,\n",
    "    \"Date\": date,\n",
    "    \"Humidity\": humidity,\n",
    "    \"Lat\": lat,\n",
    "    \"Lng\": lng,\n",
    "    \"Max_temp\": max_temp,\n",
    "    \"Wind_speed\": wind_speed\n",
    "}"
   ]
  },
  {
   "cell_type": "code",
   "execution_count": 10,
   "metadata": {},
   "outputs": [
    {
     "data": {
      "text/plain": [
       "City          568\n",
       "Cloudiness    568\n",
       "Country       568\n",
       "Date          568\n",
       "Humidity      568\n",
       "Lat           568\n",
       "Lng           568\n",
       "Max_temp      568\n",
       "Wind_speed    568\n",
       "dtype: int64"
      ]
     },
     "execution_count": 10,
     "metadata": {},
     "output_type": "execute_result"
    }
   ],
   "source": [
    "# count by column of weather_data Data frame\n",
    "weather_data = pd.DataFrame(weather_dict)\n",
    "weather_data.count()"
   ]
  },
  {
   "cell_type": "code",
   "execution_count": 11,
   "metadata": {},
   "outputs": [
    {
     "data": {
      "text/html": [
       "<div>\n",
       "<style scoped>\n",
       "    .dataframe tbody tr th:only-of-type {\n",
       "        vertical-align: middle;\n",
       "    }\n",
       "\n",
       "    .dataframe tbody tr th {\n",
       "        vertical-align: top;\n",
       "    }\n",
       "\n",
       "    .dataframe thead th {\n",
       "        text-align: right;\n",
       "    }\n",
       "</style>\n",
       "<table border=\"1\" class=\"dataframe\">\n",
       "  <thead>\n",
       "    <tr style=\"text-align: right;\">\n",
       "      <th></th>\n",
       "      <th>City</th>\n",
       "      <th>Cloudiness</th>\n",
       "      <th>Country</th>\n",
       "      <th>Date</th>\n",
       "      <th>Humidity</th>\n",
       "      <th>Lat</th>\n",
       "      <th>Lng</th>\n",
       "      <th>Max_temp</th>\n",
       "      <th>Wind_speed</th>\n",
       "    </tr>\n",
       "  </thead>\n",
       "  <tbody>\n",
       "    <tr>\n",
       "      <th>0</th>\n",
       "      <td>New Norfolk</td>\n",
       "      <td>90</td>\n",
       "      <td>AU</td>\n",
       "      <td>1586970931</td>\n",
       "      <td>82</td>\n",
       "      <td>-42.78</td>\n",
       "      <td>147.06</td>\n",
       "      <td>62.01</td>\n",
       "      <td>5.82</td>\n",
       "    </tr>\n",
       "    <tr>\n",
       "      <th>1</th>\n",
       "      <td>Rikitea</td>\n",
       "      <td>58</td>\n",
       "      <td>PF</td>\n",
       "      <td>1586970931</td>\n",
       "      <td>68</td>\n",
       "      <td>-23.12</td>\n",
       "      <td>-134.97</td>\n",
       "      <td>75.69</td>\n",
       "      <td>2.84</td>\n",
       "    </tr>\n",
       "    <tr>\n",
       "      <th>2</th>\n",
       "      <td>Port Hawkesbury</td>\n",
       "      <td>90</td>\n",
       "      <td>CA</td>\n",
       "      <td>1586970710</td>\n",
       "      <td>93</td>\n",
       "      <td>45.62</td>\n",
       "      <td>-61.35</td>\n",
       "      <td>39.00</td>\n",
       "      <td>2.24</td>\n",
       "    </tr>\n",
       "    <tr>\n",
       "      <th>3</th>\n",
       "      <td>Alyangula</td>\n",
       "      <td>7</td>\n",
       "      <td>AU</td>\n",
       "      <td>1586970931</td>\n",
       "      <td>100</td>\n",
       "      <td>-13.85</td>\n",
       "      <td>136.42</td>\n",
       "      <td>73.40</td>\n",
       "      <td>6.89</td>\n",
       "    </tr>\n",
       "    <tr>\n",
       "      <th>4</th>\n",
       "      <td>Puerto Ayora</td>\n",
       "      <td>40</td>\n",
       "      <td>EC</td>\n",
       "      <td>1586970931</td>\n",
       "      <td>74</td>\n",
       "      <td>-0.74</td>\n",
       "      <td>-90.35</td>\n",
       "      <td>84.20</td>\n",
       "      <td>12.75</td>\n",
       "    </tr>\n",
       "  </tbody>\n",
       "</table>\n",
       "</div>"
      ],
      "text/plain": [
       "              City  Cloudiness Country        Date  Humidity    Lat     Lng  \\\n",
       "0      New Norfolk          90      AU  1586970931        82 -42.78  147.06   \n",
       "1          Rikitea          58      PF  1586970931        68 -23.12 -134.97   \n",
       "2  Port Hawkesbury          90      CA  1586970710        93  45.62  -61.35   \n",
       "3        Alyangula           7      AU  1586970931       100 -13.85  136.42   \n",
       "4     Puerto Ayora          40      EC  1586970931        74  -0.74  -90.35   \n",
       "\n",
       "   Max_temp  Wind_speed  \n",
       "0     62.01        5.82  \n",
       "1     75.69        2.84  \n",
       "2     39.00        2.24  \n",
       "3     73.40        6.89  \n",
       "4     84.20       12.75  "
      ]
     },
     "execution_count": 11,
     "metadata": {},
     "output_type": "execute_result"
    }
   ],
   "source": [
    "# Data frame of weather_data\n",
    "weather_data.head()"
   ]
  },
  {
   "cell_type": "code",
   "execution_count": 12,
   "metadata": {},
   "outputs": [],
   "source": [
    "# Save as a csv\n",
    "# Note to avoid any issues later, use encoding=\"utf-8\"\n",
    "weather_data.to_csv(output_data_file, index=True)"
   ]
  },
  {
   "cell_type": "code",
   "execution_count": 23,
   "metadata": {},
   "outputs": [
    {
     "data": {
      "text/plain": [
       "'04/15/20'"
      ]
     },
     "execution_count": 23,
     "metadata": {},
     "output_type": "execute_result"
    }
   ],
   "source": [
    "Date_ = dt.date.today().strftime(\"%m/%d/%y\")\n",
    "Date_"
   ]
  },
  {
   "cell_type": "markdown",
   "metadata": {},
   "source": [
    "### Plotting the Data\n",
    "* Use proper labeling of the plots using plot titles (including date of analysis) and axes labels.\n",
    "* Save the plotted figures as .pngs."
   ]
  },
  {
   "cell_type": "markdown",
   "metadata": {},
   "source": [
    "#### Latitude vs. Temperature Plot"
   ]
  },
  {
   "cell_type": "code",
   "execution_count": 24,
   "metadata": {},
   "outputs": [
    {
     "data": {
      "image/png": "[encoded data removed]",
      "text/plain": [
       "<Figure size 432x288 with 1 Axes>"
      ]
     },
     "metadata": {
      "needs_background": "light"
     },
     "output_type": "display_data"
    }
   ],
   "source": [
    "# Create a Scatter Plot for temperature vs latitude\n",
    "x_values = weather_data['Lat']\n",
    "y_values = weather_data['Max_temp']\n",
    "plt.scatter(x_values,y_values)\n",
    "plt.title('City Latitud vs. Max Temperature' + \" \" + \"(\" + (Date_) +\")\")                #!!!!!!!!!!!\n",
    "plt.xlabel('Latitude')\n",
    "plt.ylabel('Max Temperature (F)')\n",
    "plt.grid()\n",
    "plt.show()"
   ]
  },
  {
   "cell_type": "code",
   "execution_count": null,
   "metadata": {
    "scrolled": true
   },
   "outputs": [],
   "source": []
  },
  {
   "cell_type": "markdown",
   "metadata": {},
   "source": [
    "#### Latitude vs. Humidity Plot"
   ]
  },
  {
   "cell_type": "code",
   "execution_count": 25,
   "metadata": {},
   "outputs": [
    {
     "data": {
      "image/png": "[encoded data removed]",
      "text/plain": [
       "<Figure size 432x288 with 1 Axes>"
      ]
     },
     "metadata": {
      "needs_background": "light"
     },
     "output_type": "display_data"
    }
   ],
   "source": [
    "# Create a Scatter Plot for latitude vs humidity\n",
    "x_values = weather_data['Lat']\n",
    "y_values = weather_data['Humidity']\n",
    "plt.scatter(x_values,y_values)\n",
    "plt.title('City Latitud vs. Humidity' + \" \" + \"(\" + (Date_) +\")\")\n",
    "plt.xlabel('Latitude')\n",
    "plt.ylabel('Humidity (%)')\n",
    "plt.grid()\n",
    "plt.show()"
   ]
  },
  {
   "cell_type": "code",
   "execution_count": null,
   "metadata": {},
   "outputs": [],
   "source": []
  },
  {
   "cell_type": "markdown",
   "metadata": {},
   "source": [
    "#### Latitude vs. Cloudiness Plot"
   ]
  },
  {
   "cell_type": "code",
   "execution_count": 26,
   "metadata": {},
   "outputs": [
    {
     "data": {
      "image/png": "[encoded data removed]",
      "text/plain": [
       "<Figure size 432x288 with 1 Axes>"
      ]
     },
     "metadata": {
      "needs_background": "light"
     },
     "output_type": "display_data"
    }
   ],
   "source": [
    "# Create a Scatter Plot for latitude vs humidity\n",
    "x_values = weather_data['Lat']\n",
    "y_values = weather_data['Cloudiness']\n",
    "plt.scatter(x_values,y_values)\n",
    "plt.title('City Latitud vs. Cloudiness' + \" \" + \"(\" + (Date_) +\")\")\n",
    "plt.xlabel('Latitude')\n",
    "plt.ylabel('Cloudiness (%)')\n",
    "plt.grid()\n",
    "plt.show()"
   ]
  },
  {
   "cell_type": "code",
   "execution_count": null,
   "metadata": {},
   "outputs": [],
   "source": []
  },
  {
   "cell_type": "markdown",
   "metadata": {},
   "source": [
    "#### Latitude vs. Wind Speed Plot"
   ]
  },
  {
   "cell_type": "code",
   "execution_count": 27,
   "metadata": {},
   "outputs": [
    {
     "data": {
      "image/png": "[encoded data removed]",
      "text/plain": [
       "<Figure size 432x288 with 1 Axes>"
      ]
     },
     "metadata": {
      "needs_background": "light"
     },
     "output_type": "display_data"
    }
   ],
   "source": [
    "# Create a Scatter Plot for latitude vs humidity\n",
    "x_values = weather_data['Lat']\n",
    "y_values = weather_data['Wind_speed']\n",
    "plt.scatter(x_values,y_values)\n",
    "plt.title('City Latitud vs. Wind Speed' + \" \" + \"(\" + (Date_) +\")\")\n",
    "plt.xlabel('Latitude')\n",
    "plt.ylabel('Wind Speed (mph)')\n",
    "plt.grid()\n",
    "plt.show()"
   ]
  },
  {
   "cell_type": "code",
   "execution_count": null,
   "metadata": {},
   "outputs": [],
   "source": []
  },
  {
   "cell_type": "markdown",
   "metadata": {},
   "source": [
    "## Linear Regression"
   ]
  },
  {
   "cell_type": "code",
   "execution_count": 28,
   "metadata": {},
   "outputs": [],
   "source": [
    "# OPTIONAL: Create a function to create Linear Regression plots\n"
   ]
  },
  {
   "cell_type": "code",
   "execution_count": 29,
   "metadata": {},
   "outputs": [
    {
     "data": {
      "text/html": [
       "<div>\n",
       "<style scoped>\n",
       "    .dataframe tbody tr th:only-of-type {\n",
       "        vertical-align: middle;\n",
       "    }\n",
       "\n",
       "    .dataframe tbody tr th {\n",
       "        vertical-align: top;\n",
       "    }\n",
       "\n",
       "    .dataframe thead th {\n",
       "        text-align: right;\n",
       "    }\n",
       "</style>\n",
       "<table border=\"1\" class=\"dataframe\">\n",
       "  <thead>\n",
       "    <tr style=\"text-align: right;\">\n",
       "      <th></th>\n",
       "      <th>City</th>\n",
       "      <th>Cloudiness</th>\n",
       "      <th>Country</th>\n",
       "      <th>Date</th>\n",
       "      <th>Humidity</th>\n",
       "      <th>Lat</th>\n",
       "      <th>Lng</th>\n",
       "      <th>Max_temp</th>\n",
       "      <th>Wind_speed</th>\n",
       "    </tr>\n",
       "  </thead>\n",
       "  <tbody>\n",
       "    <tr>\n",
       "      <th>0</th>\n",
       "      <td>New Norfolk</td>\n",
       "      <td>90</td>\n",
       "      <td>AU</td>\n",
       "      <td>1586970931</td>\n",
       "      <td>82</td>\n",
       "      <td>-42.78</td>\n",
       "      <td>147.06</td>\n",
       "      <td>62.01</td>\n",
       "      <td>5.82</td>\n",
       "    </tr>\n",
       "    <tr>\n",
       "      <th>1</th>\n",
       "      <td>Rikitea</td>\n",
       "      <td>58</td>\n",
       "      <td>PF</td>\n",
       "      <td>1586970931</td>\n",
       "      <td>68</td>\n",
       "      <td>-23.12</td>\n",
       "      <td>-134.97</td>\n",
       "      <td>75.69</td>\n",
       "      <td>2.84</td>\n",
       "    </tr>\n",
       "    <tr>\n",
       "      <th>3</th>\n",
       "      <td>Alyangula</td>\n",
       "      <td>7</td>\n",
       "      <td>AU</td>\n",
       "      <td>1586970931</td>\n",
       "      <td>100</td>\n",
       "      <td>-13.85</td>\n",
       "      <td>136.42</td>\n",
       "      <td>73.40</td>\n",
       "      <td>6.89</td>\n",
       "    </tr>\n",
       "    <tr>\n",
       "      <th>4</th>\n",
       "      <td>Puerto Ayora</td>\n",
       "      <td>40</td>\n",
       "      <td>EC</td>\n",
       "      <td>1586970931</td>\n",
       "      <td>74</td>\n",
       "      <td>-0.74</td>\n",
       "      <td>-90.35</td>\n",
       "      <td>84.20</td>\n",
       "      <td>12.75</td>\n",
       "    </tr>\n",
       "    <tr>\n",
       "      <th>5</th>\n",
       "      <td>Punta Arenas</td>\n",
       "      <td>99</td>\n",
       "      <td>CL</td>\n",
       "      <td>1586970931</td>\n",
       "      <td>71</td>\n",
       "      <td>-53.15</td>\n",
       "      <td>-70.92</td>\n",
       "      <td>55.40</td>\n",
       "      <td>6.93</td>\n",
       "    </tr>\n",
       "  </tbody>\n",
       "</table>\n",
       "</div>"
      ],
      "text/plain": [
       "           City  Cloudiness Country        Date  Humidity    Lat     Lng  \\\n",
       "0   New Norfolk          90      AU  1586970931        82 -42.78  147.06   \n",
       "1       Rikitea          58      PF  1586970931        68 -23.12 -134.97   \n",
       "3     Alyangula           7      AU  1586970931       100 -13.85  136.42   \n",
       "4  Puerto Ayora          40      EC  1586970931        74  -0.74  -90.35   \n",
       "5  Punta Arenas          99      CL  1586970931        71 -53.15  -70.92   \n",
       "\n",
       "   Max_temp  Wind_speed  \n",
       "0     62.01        5.82  \n",
       "1     75.69        2.84  \n",
       "3     73.40        6.89  \n",
       "4     84.20       12.75  \n",
       "5     55.40        6.93  "
      ]
     },
     "execution_count": 29,
     "metadata": {},
     "output_type": "execute_result"
    }
   ],
   "source": [
    "# Create Northern and Southern Hemisphere DataFrames\n",
    "\n",
    "#Northern Hemisphere Data Frame (greater than or equal to 0 degrees latitude)\n",
    "\n",
    "northern_df = weather_data.loc[weather_data['Lat'] >= 0]\n",
    "northern_df\n",
    "\n",
    "\n",
    "#Southern Hemisphere Data Frame (less than 0 degrees latitude)\n",
    "\n",
    "southern_df = weather_data.loc[weather_data['Lat'] <0]\n",
    "southern_df.head()"
   ]
  },
  {
   "cell_type": "markdown",
   "metadata": {},
   "source": [
    "####  Northern Hemisphere - Max Temp vs. Latitude Linear Regression"
   ]
  },
  {
   "cell_type": "code",
   "execution_count": 30,
   "metadata": {},
   "outputs": [
    {
     "name": "stdout",
     "output_type": "stream",
     "text": [
      "R squared: 0.7863191256023014\n"
     ]
    },
    {
     "data": {
      "image/png": "[encoded data removed]",
      "text/plain": [
       "<Figure size 432x288 with 1 Axes>"
      ]
     },
     "metadata": {
      "needs_background": "light"
     },
     "output_type": "display_data"
    }
   ],
   "source": [
    "north_lat_reg = northern_df[\"Lat\"].astype('float')\n",
    "north_max_temp_reg = northern_df[\"Max_temp\"].astype('float')\n",
    "\n",
    "# Run linear regression\n",
    "(slope, intercept, rvalue, pvalue, stderr) = linregress(north_lat_reg, north_max_temp_reg)\n",
    "regress_values = north_lat_reg * slope + intercept\n",
    "line_eq = \"y = \" + str(round(slope,2)) + \"x + \" + str(round(intercept,2))\n",
    "\n",
    "# Plot scatter plot\n",
    "plt.scatter(north_lat_reg,north_max_temp_reg)\n",
    "\n",
    "# Plot regression line\n",
    "plt.plot(north_lat_reg,regress_values,\"r-\")\n",
    "plt.annotate(line_eq,(10,40),fontsize=15,color=\"red\")\n",
    "\n",
    "# Label plot\n",
    "plt.xlabel('Latitud')\n",
    "plt.ylabel('Max Temp')\n",
    "\n",
    "# Print r square value\n",
    "print(f\"R squared: {rvalue**2}\")\n",
    "\n",
    "plt.show()"
   ]
  },
  {
   "cell_type": "markdown",
   "metadata": {},
   "source": [
    "####  Southern Hemisphere - Max Temp vs. Latitude Linear Regression"
   ]
  },
  {
   "cell_type": "code",
   "execution_count": 31,
   "metadata": {},
   "outputs": [
    {
     "name": "stdout",
     "output_type": "stream",
     "text": [
      "R squared: 0.5295848893547708\n"
     ]
    },
    {
     "data": {
      "image/png": "[encoded data removed]",
      "text/plain": [
       "<Figure size 432x288 with 1 Axes>"
      ]
     },
     "metadata": {
      "needs_background": "light"
     },
     "output_type": "display_data"
    }
   ],
   "source": [
    "South_lat_reg = southern_df[\"Lat\"].astype('float')\n",
    "South_max_temp_reg = southern_df[\"Max_temp\"].astype('float')\n",
    "\n",
    "# Run linear regression\n",
    "(slope, intercept, rvalue, pvalue, stderr) = linregress(South_lat_reg, South_max_temp_reg)\n",
    "regress_values = South_lat_reg * slope + intercept\n",
    "line_eq = \"y = \" + str(round(slope,2)) + \"x + \" + str(round(intercept,2))\n",
    "\n",
    "# Plot scatter plot\n",
    "plt.scatter(South_lat_reg,South_max_temp_reg)\n",
    "\n",
    "# Plot regression line\n",
    "plt.plot(South_lat_reg,regress_values,\"r-\")\n",
    "plt.annotate(line_eq,(-30,50),fontsize=15,color=\"red\")\n",
    "\n",
    "# Label plot\n",
    "plt.xlabel('Latitud')\n",
    "plt.ylabel('Max Temp')\n",
    "\n",
    "# Print r square value\n",
    "print(f\"R squared: {rvalue**2}\")\n",
    "\n",
    "plt.show()"
   ]
  },
  {
   "cell_type": "markdown",
   "metadata": {},
   "source": [
    "####  Northern Hemisphere - Humidity (%) vs. Latitude Linear Regression"
   ]
  },
  {
   "cell_type": "code",
   "execution_count": 32,
   "metadata": {},
   "outputs": [
    {
     "name": "stdout",
     "output_type": "stream",
     "text": [
      "R squared: 0.12392204257838418\n"
     ]
    },
    {
     "data": {
      "image/png": "[encoded data removed]",
      "text/plain": [
       "<Figure size 432x288 with 1 Axes>"
      ]
     },
     "metadata": {
      "needs_background": "light"
     },
     "output_type": "display_data"
    }
   ],
   "source": [
    "north_humidity_reg = northern_df[\"Humidity\"].astype('float')\n",
    "\n",
    "# Run linear regression\n",
    "(slope, intercept, rvalue, pvalue, stderr) = linregress(north_lat_reg, north_humidity_reg)\n",
    "regress_values = north_lat_reg * slope + intercept\n",
    "line_eq = \"y = \" + str(round(slope,2)) + \"x + \" + str(round(intercept,2))\n",
    "\n",
    "# Plot scatter plot\n",
    "plt.scatter(north_lat_reg,north_humidity_reg)\n",
    "\n",
    "# Plot regression line\n",
    "plt.plot(north_lat_reg,regress_values,\"r-\")\n",
    "plt.annotate(line_eq,(40,10),fontsize=15,color=\"red\")\n",
    "\n",
    "# Label plot\n",
    "plt.xlabel('Latitud')\n",
    "plt.ylabel('Humidity')\n",
    "\n",
    "# Print r square value\n",
    "print(f\"R squared: {rvalue**2}\")\n",
    "\n",
    "plt.show()"
   ]
  },
  {
   "cell_type": "markdown",
   "metadata": {},
   "source": [
    "####  Southern Hemisphere - Humidity (%) vs. Latitude Linear Regression"
   ]
  },
  {
   "cell_type": "code",
   "execution_count": 33,
   "metadata": {},
   "outputs": [
    {
     "name": "stdout",
     "output_type": "stream",
     "text": [
      "R squared: 0.006815374680705328\n"
     ]
    },
    {
     "data": {
      "image/png": "[encoded data removed]",
      "text/plain": [
       "<Figure size 432x288 with 1 Axes>"
      ]
     },
     "metadata": {
      "needs_background": "light"
     },
     "output_type": "display_data"
    }
   ],
   "source": [
    "South_humidity_reg = southern_df[\"Humidity\"].astype('float')\n",
    "\n",
    "# Run linear regression\n",
    "(slope, intercept, rvalue, pvalue, stderr) = linregress(South_lat_reg, South_humidity_reg)\n",
    "regress_values = South_lat_reg * slope + intercept\n",
    "line_eq = \"y = \" + str(round(slope,2)) + \"x + \" + str(round(intercept,2))\n",
    "\n",
    "# Plot scatter plot\n",
    "plt.scatter(South_lat_reg,South_humidity_reg)\n",
    "\n",
    "# Plot regression line\n",
    "plt.plot(South_lat_reg,regress_values,\"r-\")\n",
    "plt.annotate(line_eq,(-30,50),fontsize=15,color=\"red\")\n",
    "\n",
    "# Label plot\n",
    "plt.xlabel('Latitud')\n",
    "plt.ylabel('Humidity')\n",
    "\n",
    "# Print r square value\n",
    "print(f\"R squared: {rvalue**2}\")\n",
    "\n",
    "plt.show()"
   ]
  },
  {
   "cell_type": "markdown",
   "metadata": {},
   "source": [
    "####  Northern Hemisphere - Cloudiness (%) vs. Latitude Linear Regression"
   ]
  },
  {
   "cell_type": "code",
   "execution_count": 34,
   "metadata": {},
   "outputs": [
    {
     "name": "stdout",
     "output_type": "stream",
     "text": [
      "R squared: 0.05694505679609158\n"
     ]
    },
    {
     "data": {
      "image/png": "[encoded data removed]",
      "text/plain": [
       "<Figure size 432x288 with 1 Axes>"
      ]
     },
     "metadata": {
      "needs_background": "light"
     },
     "output_type": "display_data"
    }
   ],
   "source": [
    "north_cloudiness_reg = northern_df[\"Cloudiness\"].astype('float')\n",
    "\n",
    "# Run linear regression\n",
    "(slope, intercept, rvalue, pvalue, stderr) = linregress(north_lat_reg, north_cloudiness_reg)\n",
    "regress_values = north_lat_reg * slope + intercept\n",
    "line_eq = \"y = \" + str(round(slope,2)) + \"x + \" + str(round(intercept,2))\n",
    "\n",
    "# Plot scatter plot\n",
    "plt.scatter(north_lat_reg,north_cloudiness_reg)\n",
    "\n",
    "# Plot regression line\n",
    "plt.plot(north_lat_reg,regress_values,\"r-\")\n",
    "plt.annotate(line_eq,(40,10),fontsize=15,color=\"red\")\n",
    "\n",
    "# Label plot\n",
    "plt.xlabel('Latitud')\n",
    "plt.ylabel('Cloudiness')\n",
    "\n",
    "# Print r square value\n",
    "print(f\"R squared: {rvalue**2}\")\n",
    "\n",
    "plt.show()"
   ]
  },
  {
   "cell_type": "markdown",
   "metadata": {},
   "source": [
    "####  Southern Hemisphere - Cloudiness (%) vs. Latitude Linear Regression"
   ]
  },
  {
   "cell_type": "code",
   "execution_count": 35,
   "metadata": {},
   "outputs": [
    {
     "name": "stdout",
     "output_type": "stream",
     "text": [
      "R squared: 0.028624360624461827\n"
     ]
    },
    {
     "data": {
      "image/png": "[encoded data removed]",
      "text/plain": [
       "<Figure size 432x288 with 1 Axes>"
      ]
     },
     "metadata": {
      "needs_background": "light"
     },
     "output_type": "display_data"
    }
   ],
   "source": [
    "South_cloudiness_reg = southern_df[\"Cloudiness\"].astype('float')\n",
    "\n",
    "# Run linear regression\n",
    "(slope, intercept, rvalue, pvalue, stderr) = linregress(South_lat_reg, South_cloudiness_reg)\n",
    "regress_values = South_lat_reg * slope + intercept\n",
    "line_eq = \"y = \" + str(round(slope,2)) + \"x + \" + str(round(intercept,2))\n",
    "\n",
    "# Plot scatter plot\n",
    "plt.scatter(South_lat_reg,South_cloudiness_reg)\n",
    "\n",
    "# Plot regression line\n",
    "plt.plot(South_lat_reg,regress_values,\"r-\")\n",
    "plt.annotate(line_eq,(-30,30),fontsize=15,color=\"red\")\n",
    "\n",
    "# Label plot\n",
    "plt.xlabel('Latitud')\n",
    "plt.ylabel('Cloudiness')\n",
    "\n",
    "# Print r square value\n",
    "print(f\"R squared: {rvalue**2}\")\n",
    "\n",
    "plt.show()"
   ]
  },
  {
   "cell_type": "markdown",
   "metadata": {},
   "source": [
    "####  Northern Hemisphere - Wind Speed (mph) vs. Latitude Linear Regression"
   ]
  },
  {
   "cell_type": "code",
   "execution_count": 36,
   "metadata": {},
   "outputs": [
    {
     "name": "stdout",
     "output_type": "stream",
     "text": [
      "R squared: 0.017829721204804284\n"
     ]
    },
    {
     "data": {
      "image/png": "[encoded data removed]",
      "text/plain": [
       "<Figure size 432x288 with 1 Axes>"
      ]
     },
     "metadata": {
      "needs_background": "light"
     },
     "output_type": "display_data"
    }
   ],
   "source": [
    "north_wind_reg = northern_df[\"Wind_speed\"].astype('float')\n",
    "\n",
    "# Run linear regression\n",
    "(slope, intercept, rvalue, pvalue, stderr) = linregress(north_lat_reg, north_wind_reg)\n",
    "regress_values = north_lat_reg * slope + intercept\n",
    "line_eq = \"y = \" + str(round(slope,2)) + \"x + \" + str(round(intercept,2))\n",
    "\n",
    "# Plot scatter plot\n",
    "plt.scatter(north_lat_reg,north_wind_reg)\n",
    "\n",
    "# Plot regression line\n",
    "plt.plot(north_lat_reg,regress_values,\"r-\")\n",
    "plt.annotate(line_eq,(25,25),fontsize=15,color=\"red\")\n",
    "\n",
    "# Label plot\n",
    "plt.xlabel('Latitud')\n",
    "plt.ylabel('Wind Speed')\n",
    "\n",
    "# Print r square value\n",
    "print(f\"R squared: {rvalue**2}\")\n",
    "\n",
    "plt.show()"
   ]
  },
  {
   "cell_type": "markdown",
   "metadata": {},
   "source": [
    "####  Southern Hemisphere - Wind Speed (mph) vs. Latitude Linear Regression"
   ]
  },
  {
   "cell_type": "code",
   "execution_count": 37,
   "metadata": {},
   "outputs": [
    {
     "name": "stdout",
     "output_type": "stream",
     "text": [
      "R squared: 0.033500107464414994\n"
     ]
    },
    {
     "data": {
      "image/png": "[encoded data removed]",
      "text/plain": [
       "<Figure size 432x288 with 1 Axes>"
      ]
     },
     "metadata": {
      "needs_background": "light"
     },
     "output_type": "display_data"
    }
   ],
   "source": [
    "South_wind_reg = southern_df[\"Wind_speed\"].astype('float')\n",
    "\n",
    "# Run linear regression\n",
    "(slope, intercept, rvalue, pvalue, stderr) = linregress(South_lat_reg, South_wind_reg)\n",
    "regress_values = South_lat_reg * slope + intercept\n",
    "line_eq = \"y = \" + str(round(slope,2)) + \"x + \" + str(round(intercept,2))\n",
    "\n",
    "# Plot scatter plot\n",
    "plt.scatter(South_lat_reg,South_wind_reg)\n",
    "\n",
    "# Plot regression line\n",
    "plt.plot(South_lat_reg,regress_values,\"r-\")\n",
    "plt.annotate(line_eq,(-30,15),fontsize=15,color=\"red\")\n",
    "\n",
    "# Label plot\n",
    "plt.xlabel('Latitud')\n",
    "plt.ylabel('Wind Speed')\n",
    "\n",
    "# Print r square value\n",
    "print(f\"R squared: {rvalue**2}\")\n",
    "\n",
    "plt.show()"
   ]
  },
  {
   "cell_type": "code",
   "execution_count": null,
   "metadata": {},
   "outputs": [],
   "source": []
  }
 ],
 "metadata": {
  "anaconda-cloud": {},
  "kernel_info": {
   "name": "python3"
  },
  "kernelspec": {
   "display_name": "pythondata",
   "language": "python",
   "name": "pythondata"
  },
  "language_info": {
   "codemirror_mode": {
    "name": "ipython",
    "version": 3
   },
   "file_extension": ".py",
   "mimetype": "text/x-python",
   "name": "python",
   "nbconvert_exporter": "python",
   "pygments_lexer": "ipython3",
   "version": "3.8.2"
  },
  "latex_envs": {
   "LaTeX_envs_menu_present": true,
   "autoclose": false,
   "autocomplete": true,
   "bibliofile": "biblio.bib",
   "cite_by": "apalike",
   "current_citInitial": 1,
   "eqLabelWithNumbers": true,
   "eqNumInitial": 1,
   "hotkeys": {
    "equation": "Ctrl-E",
    "itemize": "Ctrl-I"
   },
   "labels_anchors": false,
   "latex_user_defs": false,
   "report_style_numbering": false,
   "user_envs_cfg": false
  },
  "nteract": {
   "version": "0.12.3"
  }
 },
 "nbformat": 4,
 "nbformat_minor": 4
}
